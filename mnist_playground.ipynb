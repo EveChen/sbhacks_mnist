{
 "cells": [
  {
   "cell_type": "code",
   "execution_count": null,
   "metadata": {
    "collapsed": true
   },
   "outputs": [],
   "source": [
    "from ffnn import FFNN\n",
    "\n",
    "import plotly.offline as plotly\n",
    "import plotly.graph_objs as go\n",
    "\n",
    "from PIL import Image\n",
    "import numpy as np\n",
    "import tensorflow as tf\n",
    "from sklearn.manifold import TSNE"
   ]
  },
  {
   "cell_type": "code",
   "execution_count": null,
   "metadata": {},
   "outputs": [],
   "source": [
    "plotly.init_notebook_mode(connected=True)"
   ]
  },
  {
   "cell_type": "markdown",
   "metadata": {},
   "source": [
    "# Data"
   ]
  },
  {
   "cell_type": "code",
   "execution_count": null,
   "metadata": {
    "collapsed": true
   },
   "outputs": [],
   "source": [
    "# Load in data as numpy arrays\n",
    "train_in = np.load('data/train_in.npy')\n",
    "train_labels = np.load('data/train_labels.npy')\n",
    "test_in = np.load('data/test_in.npy')\n",
    "test_labels = np.load('data/test_labels.npy')"
   ]
  },
  {
   "cell_type": "code",
   "execution_count": null,
   "metadata": {},
   "outputs": [],
   "source": [
    "# Lets take a look at one of our images!\n",
    "Image.fromarray((train_in[1] * 255).astype('uint8').reshape(28, 28), mode='L')"
   ]
  },
  {
   "cell_type": "markdown",
   "metadata": {},
   "source": [
    "# Visualizations"
   ]
  },
  {
   "cell_type": "code",
   "execution_count": null,
   "metadata": {
    "collapsed": true
   },
   "outputs": [],
   "source": [
    "tsne = TSNE()\n",
    "visualization = tsne.fit_transform(train_in[:5000])"
   ]
  },
  {
   "cell_type": "code",
   "execution_count": null,
   "metadata": {
    "collapsed": true
   },
   "outputs": [],
   "source": [
    "plotly.iplot([\n",
    "    go.Scatter(\n",
    "        x=visualization[:, 0],\n",
    "        y=visualization[:, 1],\n",
    "        mode='markers',\n",
    "        marker=dict(\n",
    "            size=3,\n",
    "            # color = train_labels[:5000].argmax(axis=1),\n",
    "            # colorscale='Rainbow'\n",
    "        )\n",
    "    )\n",
    "])"
   ]
  },
  {
   "cell_type": "markdown",
   "metadata": {},
   "source": [
    "# Define Model"
   ]
  },
  {
   "cell_type": "code",
   "execution_count": null,
   "metadata": {
    "collapsed": true
   },
   "outputs": [],
   "source": [
    "# Define the neural network structure\n",
    "# Here we have just one hidden layer with 2048 nodes\n",
    "network = FFNN([784, 2048, 10], post_function=tf.nn.softmax)"
   ]
  },
  {
   "cell_type": "code",
   "execution_count": null,
   "metadata": {
    "collapsed": true
   },
   "outputs": [],
   "source": [
    "# Train the model using gradient descent\n",
    "def cross_entropy_with_softmax(model_output, true_output):\n",
    "    return tf.reduce_sum(tf.nn.softmax_cross_entropy_with_logits(labels=true_output, logits=model_output))\n",
    "\n",
    "network.train(\n",
    "    train_in,\n",
    "    train_labels,\n",
    "    epochs=1100,\n",
    "    batch_size=100,\n",
    "    lc_interval=300,\n",
    "    loss_func=cross_entropy_with_softmax\n",
    ")"
   ]
  },
  {
   "cell_type": "code",
   "execution_count": null,
   "metadata": {
    "collapsed": true
   },
   "outputs": [],
   "source": [
    "# Lets check our error rate on our train set\n",
    "train_outputs = network.evaluate(train_in)\n",
    "print(\"Correct predictions in train set: {}\".format(\n",
    "    np.sum(train_outputs.argmax(axis=1) == train_labels.argmax(axis=1)) / float(train_labels.shape[0])\n",
    "))"
   ]
  },
  {
   "cell_type": "code",
   "execution_count": null,
   "metadata": {
    "collapsed": true
   },
   "outputs": [],
   "source": [
    "# And check that the predictions match the image\n",
    "i = 5\n",
    "print(\"Prediction: {}\".format(train_outputs[i].argmax()))\n",
    "Image.fromarray((train_in[i] * 255).astype('uint8').reshape(28, 28), mode='L')"
   ]
  },
  {
   "cell_type": "markdown",
   "metadata": {},
   "source": [
    "# Evaluate Model"
   ]
  },
  {
   "cell_type": "code",
   "execution_count": null,
   "metadata": {
    "collapsed": true
   },
   "outputs": [],
   "source": [
    "test_outputs = network.evaluate(test_in)\n",
    "print(\"Correct predictions in test_set: {}\".format(\n",
    "    np.sum(test_outputs.argmax(axis=1) == test_labels.argmax(axis=1)) / float(test_labels.shape[0])\n",
    "))"
   ]
  },
  {
   "cell_type": "code",
   "execution_count": null,
   "metadata": {
    "collapsed": true
   },
   "outputs": [],
   "source": [
    "i = 5\n",
    "print(\"Prediction: {}\".format(test_outputs[i].argmax()))\n",
    "Image.fromarray((test_in[i] * 255).astype('uint8').reshape(28, 28), mode='L')"
   ]
  }
 ],
 "metadata": {
  "kernelspec": {
   "display_name": "Python 3",
   "language": "python",
   "name": "python3"
  },
  "language_info": {
   "codemirror_mode": {
    "name": "ipython",
    "version": 3
   },
   "file_extension": ".py",
   "mimetype": "text/x-python",
   "name": "python",
   "nbconvert_exporter": "python",
   "pygments_lexer": "ipython3",
   "version": "3.6.3"
  }
 },
 "nbformat": 4,
 "nbformat_minor": 2
}
